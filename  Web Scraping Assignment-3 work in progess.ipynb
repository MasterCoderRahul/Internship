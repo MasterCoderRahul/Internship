{
 "cells": [
  {
   "cell_type": "markdown",
   "id": "7c229be4",
   "metadata": {},
   "source": [
    "1. Write a python program which searches all the product under a particular product vertical from www.amazon.in. The product verticals to be searched will be taken as input from user. For e.g. If user input is ‘guitar’. Then search for guitars"
   ]
  },
  {
   "cell_type": "code",
   "execution_count": 8,
   "id": "263a4465",
   "metadata": {},
   "outputs": [
    {
     "name": "stdout",
     "output_type": "stream",
     "text": [
      "Defaulting to user installation because normal site-packages is not writeable\n",
      "Requirement already satisfied: selenium in c:\\users\\sachin sharma\\appdata\\roaming\\python\\python39\\site-packages (4.8.2)\n",
      "Requirement already satisfied: trio~=0.17 in c:\\users\\sachin sharma\\appdata\\roaming\\python\\python39\\site-packages (from selenium) (0.22.0)\n",
      "Requirement already satisfied: urllib3[socks]~=1.26 in c:\\programdata\\anaconda3\\lib\\site-packages (from selenium) (1.26.9)\n",
      "Requirement already satisfied: certifi>=2021.10.8 in c:\\programdata\\anaconda3\\lib\\site-packages (from selenium) (2021.10.8)\n",
      "Requirement already satisfied: trio-websocket~=0.9 in c:\\users\\sachin sharma\\appdata\\roaming\\python\\python39\\site-packages (from selenium) (0.10.0)\n",
      "Requirement already satisfied: async-generator>=1.9 in c:\\users\\sachin sharma\\appdata\\roaming\\python\\python39\\site-packages (from trio~=0.17->selenium) (1.10)\n",
      "Requirement already satisfied: attrs>=19.2.0 in c:\\programdata\\anaconda3\\lib\\site-packages (from trio~=0.17->selenium) (21.4.0)\n",
      "Requirement already satisfied: cffi>=1.14 in c:\\programdata\\anaconda3\\lib\\site-packages (from trio~=0.17->selenium) (1.15.0)\n",
      "Requirement already satisfied: outcome in c:\\users\\sachin sharma\\appdata\\roaming\\python\\python39\\site-packages (from trio~=0.17->selenium) (1.2.0)\n",
      "Requirement already satisfied: sortedcontainers in c:\\programdata\\anaconda3\\lib\\site-packages (from trio~=0.17->selenium) (2.4.0)\n",
      "Requirement already satisfied: sniffio in c:\\programdata\\anaconda3\\lib\\site-packages (from trio~=0.17->selenium) (1.2.0)\n",
      "Requirement already satisfied: exceptiongroup>=1.0.0rc9 in c:\\users\\sachin sharma\\appdata\\roaming\\python\\python39\\site-packages (from trio~=0.17->selenium) (1.1.1)\n",
      "Requirement already satisfied: idna in c:\\programdata\\anaconda3\\lib\\site-packages (from trio~=0.17->selenium) (3.3)\n",
      "Requirement already satisfied: pycparser in c:\\programdata\\anaconda3\\lib\\site-packages (from cffi>=1.14->trio~=0.17->selenium) (2.21)\n",
      "Requirement already satisfied: wsproto>=0.14 in c:\\users\\sachin sharma\\appdata\\roaming\\python\\python39\\site-packages (from trio-websocket~=0.9->selenium) (1.2.0)\n",
      "Requirement already satisfied: PySocks!=1.5.7,<2.0,>=1.5.6 in c:\\programdata\\anaconda3\\lib\\site-packages (from urllib3[socks]~=1.26->selenium) (1.7.1)\n",
      "Requirement already satisfied: h11<1,>=0.9.0 in c:\\users\\sachin sharma\\appdata\\roaming\\python\\python39\\site-packages (from wsproto>=0.14->trio-websocket~=0.9->selenium) (0.14.0)\n"
     ]
    }
   ],
   "source": [
    "!pip install selenium"
   ]
  },
  {
   "cell_type": "code",
   "execution_count": 9,
   "id": "14808a32",
   "metadata": {},
   "outputs": [],
   "source": [
    "# importing necessary libraries\n",
    "import selenium\n",
    "import pandas as pd\n",
    "from bs4 import BeautifulSoup\n",
    "import time\n",
    "\n",
    "#Importing requests\n",
    "import requests\n",
    "\n",
    "# importing regex\n",
    "import re\n",
    "\n",
    "# Importing selenium webdriver\n",
    "from selenium import webdriver\n",
    "\n",
    "#Impoting fiters warings\n",
    "import warnings\n",
    "warnings.filterwarnings('ignore')\n",
    "\n",
    "# Importing required Exceptions\n",
    "from selenium.common.exceptions import StaleElementReferenceException\n",
    "from selenium.common.exceptions import NoSuchElementException\n",
    "from selenium.webdriver.support.ui import WebDriverWait\n",
    "from selenium.webdriver.common.by import By"
   ]
  },
  {
   "cell_type": "code",
   "execution_count": 10,
   "id": "8b3e5e3b",
   "metadata": {},
   "outputs": [],
   "source": [
    "#Connecting to the web driver\n",
    "driver=webdriver.Chrome(r\"C:\\Users\\Sachin Sharma\\Downloads\\chromedriver_win32\\chromedriver.exe\")"
   ]
  },
  {
   "cell_type": "code",
   "execution_count": 11,
   "id": "6a96b188",
   "metadata": {},
   "outputs": [
    {
     "name": "stdout",
     "output_type": "stream",
     "text": [
      "WHAT YOU WANT TO SEARCH ON AMAZON.IN : keyboard\n"
     ]
    }
   ],
   "source": [
    "# entering manually product desired by the customer\n",
    "product_name=input('WHAT YOU WANT TO SEARCH ON AMAZON.IN : ')\n",
    "\n",
    "#opening the url amazon.in page on chrome browser\n",
    "driver.get(\"https://www.amazon.in/\")\n",
    "driver.maximize_window()\n",
    "\n",
    "# wait for a while load the webpage \n",
    "time.sleep(2)"
   ]
  },
  {
   "cell_type": "code",
   "execution_count": 12,
   "id": "af02caf2",
   "metadata": {},
   "outputs": [],
   "source": [
    "#Scraping search bar Xpath and clicking on search icon\n",
    "search_bar = driver.find_element(By.ID, \"twotabsearchtextbox\")  \n",
    "search_bar.clear()                                               \n",
    "search_bar.send_keys(product_name)\n",
    "\n",
    "#using xpath for clicking search button\n",
    "search_button=driver.find_element(By.XPATH,'/html/body/div[1]/header/div/div[1]/div[2]/div/form/div[3]/div')\n",
    "search_button.click()"
   ]
  },
  {
   "cell_type": "code",
   "execution_count": 13,
   "id": "2a0ec728",
   "metadata": {},
   "outputs": [],
   "source": [
    "url = []  #creating empty list\n",
    "start=0\n",
    "end=3\n",
    "for i in range(start,end):   #scraping all links from 3 pages\n",
    "#scraping url data of keyboard from all 3 web page\n",
    "    all_url = driver.find_elements(By.XPATH,'//a[@class=\"a-link-normal s-underline-text s-underline-link-text s-link-style a-text-normal\"]')\n",
    "    for k in all_url:\n",
    "        url.append(k.get_attribute(\"herf\"))\n",
    "        \n",
    "#using XPATH for changing next page\n",
    "    next_button=driver.find_elements(By.XPATH,'/html/body/div[1]/div[2]/div[1]/div[1]/div/span[1]/div[1]/div[29]/div/div/span/a[3]')"
   ]
  },
  {
   "cell_type": "code",
   "execution_count": 14,
   "id": "90e6f1a5",
   "metadata": {},
   "outputs": [
    {
     "data": {
      "text/plain": [
       "72"
      ]
     },
     "execution_count": 14,
     "metadata": {},
     "output_type": "execute_result"
    }
   ],
   "source": [
    "len(url)"
   ]
  },
  {
   "cell_type": "code",
   "execution_count": 15,
   "id": "99df7783",
   "metadata": {},
   "outputs": [
    {
     "ename": "InvalidArgumentException",
     "evalue": "Message: invalid argument: 'url' must be a string\n  (Session info: chrome=113.0.5672.93)\nStacktrace:\nBacktrace:\n\tGetHandleVerifier [0x004E8893+48451]\n\t(No symbol) [0x0047B8A1]\n\t(No symbol) [0x00385058]\n\t(No symbol) [0x003DCAF8]\n\t(No symbol) [0x003CA2BC]\n\t(No symbol) [0x003DC482]\n\t(No symbol) [0x003CA0B6]\n\t(No symbol) [0x003A7E08]\n\t(No symbol) [0x003A8F2D]\n\tGetHandleVerifier [0x00748E3A+2540266]\n\tGetHandleVerifier [0x00788959+2801161]\n\tGetHandleVerifier [0x0078295C+2776588]\n\tGetHandleVerifier [0x00572280+612144]\n\t(No symbol) [0x00484F6C]\n\t(No symbol) [0x004811D8]\n\t(No symbol) [0x004812BB]\n\t(No symbol) [0x00474857]\n\tBaseThreadInitThunk [0x75916BA9+25]\n\tRtlGetFullPathName_UEx [0x77078F9F+1215]\n\tRtlGetFullPathName_UEx [0x77078F6D+1165]\n",
     "output_type": "error",
     "traceback": [
      "\u001b[1;31m---------------------------------------------------------------------------\u001b[0m",
      "\u001b[1;31mInvalidArgumentException\u001b[0m                  Traceback (most recent call last)",
      "Input \u001b[1;32mIn [15]\u001b[0m, in \u001b[0;36m<cell line: 9>\u001b[1;34m()\u001b[0m\n\u001b[0;32m      8\u001b[0m \u001b[38;5;66;03m#Scraping data from URL\u001b[39;00m\n\u001b[0;32m      9\u001b[0m \u001b[38;5;28;01mfor\u001b[39;00m i \u001b[38;5;129;01min\u001b[39;00m url:\n\u001b[1;32m---> 10\u001b[0m     \u001b[43mdriver\u001b[49m\u001b[38;5;241;43m.\u001b[39;49m\u001b[43mget\u001b[49m\u001b[43m(\u001b[49m\u001b[43mi\u001b[49m\u001b[43m)\u001b[49m\n\u001b[0;32m     11\u001b[0m     time\u001b[38;5;241m.\u001b[39msleep(\u001b[38;5;241m5\u001b[39m)\n\u001b[0;32m     13\u001b[0m     \u001b[38;5;66;03m#scraping brand name of all product\u001b[39;00m\n",
      "File \u001b[1;32m~\\AppData\\Roaming\\Python\\Python39\\site-packages\\selenium\\webdriver\\remote\\webdriver.py:449\u001b[0m, in \u001b[0;36mWebDriver.get\u001b[1;34m(self, url)\u001b[0m\n\u001b[0;32m    447\u001b[0m \u001b[38;5;28;01mdef\u001b[39;00m \u001b[38;5;21mget\u001b[39m(\u001b[38;5;28mself\u001b[39m, url: \u001b[38;5;28mstr\u001b[39m) \u001b[38;5;241m-\u001b[39m\u001b[38;5;241m>\u001b[39m \u001b[38;5;28;01mNone\u001b[39;00m:\n\u001b[0;32m    448\u001b[0m     \u001b[38;5;124;03m\"\"\"Loads a web page in the current browser session.\"\"\"\u001b[39;00m\n\u001b[1;32m--> 449\u001b[0m     \u001b[38;5;28;43mself\u001b[39;49m\u001b[38;5;241;43m.\u001b[39;49m\u001b[43mexecute\u001b[49m\u001b[43m(\u001b[49m\u001b[43mCommand\u001b[49m\u001b[38;5;241;43m.\u001b[39;49m\u001b[43mGET\u001b[49m\u001b[43m,\u001b[49m\u001b[43m \u001b[49m\u001b[43m{\u001b[49m\u001b[38;5;124;43m\"\u001b[39;49m\u001b[38;5;124;43murl\u001b[39;49m\u001b[38;5;124;43m\"\u001b[39;49m\u001b[43m:\u001b[49m\u001b[43m \u001b[49m\u001b[43murl\u001b[49m\u001b[43m}\u001b[49m\u001b[43m)\u001b[49m\n",
      "File \u001b[1;32m~\\AppData\\Roaming\\Python\\Python39\\site-packages\\selenium\\webdriver\\remote\\webdriver.py:440\u001b[0m, in \u001b[0;36mWebDriver.execute\u001b[1;34m(self, driver_command, params)\u001b[0m\n\u001b[0;32m    438\u001b[0m response \u001b[38;5;241m=\u001b[39m \u001b[38;5;28mself\u001b[39m\u001b[38;5;241m.\u001b[39mcommand_executor\u001b[38;5;241m.\u001b[39mexecute(driver_command, params)\n\u001b[0;32m    439\u001b[0m \u001b[38;5;28;01mif\u001b[39;00m response:\n\u001b[1;32m--> 440\u001b[0m     \u001b[38;5;28;43mself\u001b[39;49m\u001b[38;5;241;43m.\u001b[39;49m\u001b[43merror_handler\u001b[49m\u001b[38;5;241;43m.\u001b[39;49m\u001b[43mcheck_response\u001b[49m\u001b[43m(\u001b[49m\u001b[43mresponse\u001b[49m\u001b[43m)\u001b[49m\n\u001b[0;32m    441\u001b[0m     response[\u001b[38;5;124m\"\u001b[39m\u001b[38;5;124mvalue\u001b[39m\u001b[38;5;124m\"\u001b[39m] \u001b[38;5;241m=\u001b[39m \u001b[38;5;28mself\u001b[39m\u001b[38;5;241m.\u001b[39m_unwrap_value(response\u001b[38;5;241m.\u001b[39mget(\u001b[38;5;124m\"\u001b[39m\u001b[38;5;124mvalue\u001b[39m\u001b[38;5;124m\"\u001b[39m, \u001b[38;5;28;01mNone\u001b[39;00m))\n\u001b[0;32m    442\u001b[0m     \u001b[38;5;28;01mreturn\u001b[39;00m response\n",
      "File \u001b[1;32m~\\AppData\\Roaming\\Python\\Python39\\site-packages\\selenium\\webdriver\\remote\\errorhandler.py:245\u001b[0m, in \u001b[0;36mErrorHandler.check_response\u001b[1;34m(self, response)\u001b[0m\n\u001b[0;32m    243\u001b[0m         alert_text \u001b[38;5;241m=\u001b[39m value[\u001b[38;5;124m\"\u001b[39m\u001b[38;5;124malert\u001b[39m\u001b[38;5;124m\"\u001b[39m]\u001b[38;5;241m.\u001b[39mget(\u001b[38;5;124m\"\u001b[39m\u001b[38;5;124mtext\u001b[39m\u001b[38;5;124m\"\u001b[39m)\n\u001b[0;32m    244\u001b[0m     \u001b[38;5;28;01mraise\u001b[39;00m exception_class(message, screen, stacktrace, alert_text)  \u001b[38;5;66;03m# type: ignore[call-arg]  # mypy is not smart enough here\u001b[39;00m\n\u001b[1;32m--> 245\u001b[0m \u001b[38;5;28;01mraise\u001b[39;00m exception_class(message, screen, stacktrace)\n",
      "\u001b[1;31mInvalidArgumentException\u001b[0m: Message: invalid argument: 'url' must be a string\n  (Session info: chrome=113.0.5672.93)\nStacktrace:\nBacktrace:\n\tGetHandleVerifier [0x004E8893+48451]\n\t(No symbol) [0x0047B8A1]\n\t(No symbol) [0x00385058]\n\t(No symbol) [0x003DCAF8]\n\t(No symbol) [0x003CA2BC]\n\t(No symbol) [0x003DC482]\n\t(No symbol) [0x003CA0B6]\n\t(No symbol) [0x003A7E08]\n\t(No symbol) [0x003A8F2D]\n\tGetHandleVerifier [0x00748E3A+2540266]\n\tGetHandleVerifier [0x00788959+2801161]\n\tGetHandleVerifier [0x0078295C+2776588]\n\tGetHandleVerifier [0x00572280+612144]\n\t(No symbol) [0x00484F6C]\n\t(No symbol) [0x004811D8]\n\t(No symbol) [0x004812BB]\n\t(No symbol) [0x00474857]\n\tBaseThreadInitThunk [0x75916BA9+25]\n\tRtlGetFullPathName_UEx [0x77078F9F+1215]\n\tRtlGetFullPathName_UEx [0x77078F6D+1165]\n"
     ]
    }
   ],
   "source": [
    "#creating empty list for screaping data\n",
    "brand_name=[]\n",
    "product_name=[]\n",
    "poduct_price=[]\n",
    "product_return=[]\n",
    "expected_delivery=[]\n",
    "\n",
    "#Scraping data from URL\n",
    "for i in url:\n",
    "    driver.get(i)\n",
    "    time.sleep(5)\n",
    "    \n",
    "    #scraping brand name of all product\n",
    "    try:\n",
    "        branded_name=driver.find_elements(By.XPATH,'//span[@class=\"a-size-base po-break-word\"]')\n",
    "        brand_name.append(branded_name.text)\n",
    "    except NoSuchElementException as e:\n",
    "            brand_name('-')\n",
    "            \n",
    "     #scraping product name of all item\n",
    "    try:\n",
    "        item_name=driver.find_elements(By.XPATH,'//span[@class=\"a-size-medium a-color-base a-text-normal\"]')\n",
    "        product_name.append(item_name.text)\n",
    "    except NOSUCHELEMENTEXCEPTION as e:\n",
    "            product_name('-')\n",
    "           \n",
    "    #Scraping product price of all product\n",
    "    try:\n",
    "        product_worth=driver.find_elements(By.XPATH,'//span[@class=\"a-price-whole\"]')\n",
    "        product_price.append(product_worth.text)\n",
    "    except NoSuchElementException as e:\n",
    "            product_price('-') \n",
    "            \n",
    "    #Scraping return / exchange  of all product\n",
    "    try:\n",
    "        product_exchange=driver.find_elements(By.XPATH,'//div[@class=\"a-column a-span12 a-text-center icon-container scrollable-container celwidget\"]')\n",
    "        product_return.append(product_exchange.text)\n",
    "    except NoSuchElementException as e:\n",
    "            product_return('-')\n",
    "            \n",
    "    #Scraping expected dilivery of all product\n",
    "    try:\n",
    "        delivery_time=driver.find_elements(By.XPATH,'//span[@class=\"a-color-base a-text-bold\"]')\n",
    "        expected_delivery.append(delivery_time.text)\n",
    "    except NoSuchElementException as e:\n",
    "            expected_delivery('-')        "
   ]
  },
  {
   "cell_type": "code",
   "execution_count": null,
   "id": "20f1d706",
   "metadata": {},
   "outputs": [],
   "source": [
    "#creating the dataframe from above data-\n",
    "df=pd.DataFrame({'Job_title':job_title,'Job_location':job_location,'Company_name':company_name,'Exp_required':experience_required})\n",
    "df"
   ]
  }
 ],
 "metadata": {
  "kernelspec": {
   "display_name": "Python 3 (ipykernel)",
   "language": "python",
   "name": "python3"
  },
  "language_info": {
   "codemirror_mode": {
    "name": "ipython",
    "version": 3
   },
   "file_extension": ".py",
   "mimetype": "text/x-python",
   "name": "python",
   "nbconvert_exporter": "python",
   "pygments_lexer": "ipython3",
   "version": "3.9.12"
  }
 },
 "nbformat": 4,
 "nbformat_minor": 5
}
